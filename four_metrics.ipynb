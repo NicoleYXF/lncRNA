{
 "cells": [
  {
   "cell_type": "code",
   "execution_count": 1,
   "metadata": {},
   "outputs": [
    {
     "name": "stdout",
     "output_type": "stream",
     "text": [
      "(644, 65550)\n"
     ]
    }
   ],
   "source": [
    "import numpy as np\n",
    "\n",
    "# Read 8-mer nucleotide composition\n",
    "k_mer = np.load(\"k_mer.npy\")\n",
    "# Read sequence order correlated factors\n",
    "theta_list = np.load(\"theta_list.npy\")\n",
    "# Concatenate the 8-mer nucleotide composition and sequence order correlated factors\n",
    "features = np.column_stack((k_mer,theta_list)) \n",
    "print(features.shape)"
   ]
  },
  {
   "cell_type": "code",
   "execution_count": 2,
   "metadata": {},
   "outputs": [
    {
     "name": "stdout",
     "output_type": "stream",
     "text": [
      "(644,)\n"
     ]
    }
   ],
   "source": [
    "# Read labels\n",
    "target = np.load(\"target.npy\")\n",
    "print(target.shape)"
   ]
  },
  {
   "cell_type": "code",
   "execution_count": 3,
   "metadata": {},
   "outputs": [
    {
     "name": "stdout",
     "output_type": "stream",
     "text": [
      "(644, 64723)\n"
     ]
    }
   ],
   "source": [
    "# When the value of i-th feature for all lncRNA sequences are zero, we will delete this feature.\n",
    "list_delete = []\n",
    "for i in range(65536):\n",
    "    if sum(features[:,i])==0:\n",
    "        list_delete.append(i)\n",
    "features_new = np.delete(features, list_delete, axis=1)\n",
    "print(features_new.shape)"
   ]
  },
  {
   "cell_type": "code",
   "execution_count": 4,
   "metadata": {},
   "outputs": [
    {
     "name": "stdout",
     "output_type": "stream",
     "text": [
      "(644, 11220)\n"
     ]
    }
   ],
   "source": [
    "from sklearn.feature_selection import f_classif\n",
    "from sklearn.feature_selection import SelectKBest\n",
    "\n",
    "# Apply the ANOVA to obtain the optimal feature subset\n",
    "selector = SelectKBest(f_classif, k=11220)\n",
    "selector.fit(features_new, target)\n",
    "features_selected = selector.transform(features_new)\n",
    "print(features_selected.shape)"
   ]
  },
  {
   "cell_type": "code",
   "execution_count": 5,
   "metadata": {},
   "outputs": [],
   "source": [
    "from sklearn.svm import SVC\n",
    "from sklearn.model_selection import cross_val_score\n",
    "from sklearn.pipeline import Pipeline\n",
    "from sklearn.preprocessing import MinMaxScaler\n",
    "from sklearn.model_selection import LeaveOneOut\n",
    "from sklearn.model_selection import GridSearchCV\n",
    "\n",
    "pipe = Pipeline([(\"scaler\", MinMaxScaler()), \n",
    "                 (\"svm\",SVC(C=256, gamma=0.0001220703125,\n",
    "                            decision_function_shape=\"ovo\",kernel=\"rbf\"))])\n",
    "\n",
    "loo = LeaveOneOut()"
   ]
  },
  {
   "cell_type": "code",
   "execution_count": 6,
   "metadata": {},
   "outputs": [],
   "source": [
    "import numpy as np\n",
    "from sklearn.metrics import make_scorer\n",
    "from sklearn.model_selection import cross_val_score\n",
    "\n",
    "# Calculate the confusion matrix\n",
    "confusion_matrix_myself = np.zeros((4,4))\n",
    "\n",
    "def coufusion_matrix_function(y_true, y_pred):\n",
    "    for num in range(len(y_true)):\n",
    "        i = y_true[num]\n",
    "        j = y_pred[num]\n",
    "        confusion_matrix_myself[i][j] += 1\n",
    "    return 1\n",
    "confusion_matrix_score = make_scorer(coufusion_matrix_function, greater_is_better=True)\n",
    "\n",
    "confusion_matrix_scores = cross_val_score(pipe, features_selected, target, \n",
    "                                  cv=loo, scoring=confusion_matrix_score)  "
   ]
  },
  {
   "cell_type": "code",
   "execution_count": 7,
   "metadata": {},
   "outputs": [
    {
     "name": "stdout",
     "output_type": "stream",
     "text": [
      "[[127.  27.   0.   0.]\n",
      " [  0. 417.   0.   0.]\n",
      " [  8.   6.  18.  11.]\n",
      " [  6.   3.   1.  20.]]\n"
     ]
    }
   ],
   "source": [
    "print(confusion_matrix_myself)"
   ]
  },
  {
   "cell_type": "code",
   "execution_count": 8,
   "metadata": {},
   "outputs": [],
   "source": [
    "# Calculate the metric: sensitivity\n",
    "def sensitivity_myself(confusion_matrix, i):\n",
    "    N_plus_minus_i = sum(confusion_matrix[i]) - confusion_matrix[i,i]\n",
    "    N_plus_i = sum(confusion_matrix[i])\n",
    "    Sn_i = 1 - float(N_plus_minus_i)/N_plus_i\n",
    "    return Sn_i"
   ]
  },
  {
   "cell_type": "code",
   "execution_count": 9,
   "metadata": {},
   "outputs": [
    {
     "name": "stdout",
     "output_type": "stream",
     "text": [
      "0.8246753246753247\n",
      "1.0\n",
      "0.41860465116279066\n",
      "0.6666666666666667\n"
     ]
    }
   ],
   "source": [
    "# Calculate the Sp(i)\n",
    "for i in range(4):\n",
    "    print(sensitivity_myself(confusion_matrix_myself, i))"
   ]
  },
  {
   "cell_type": "code",
   "execution_count": 10,
   "metadata": {},
   "outputs": [],
   "source": [
    "# Calculate the metric: specificity\n",
    "def specificity_myself(confusion_matrix, i):\n",
    "    matrix_sum = sum(sum(j) for j in confusion_matrix)\n",
    "    N_minus_plus_i = sum(confusion_matrix[:,i])-confusion_matrix[i,i]\n",
    "    N_minus_i = matrix_sum - sum(confusion_matrix[i])\n",
    "    Sp_i = 1 - float(N_minus_plus_i)/N_minus_i\n",
    "    return Sp_i"
   ]
  },
  {
   "cell_type": "code",
   "execution_count": 11,
   "metadata": {},
   "outputs": [
    {
     "name": "stdout",
     "output_type": "stream",
     "text": [
      "0.9714285714285714\n",
      "0.8414096916299559\n",
      "0.9983361064891847\n",
      "0.9820846905537459\n"
     ]
    }
   ],
   "source": [
    "# Calculate the Sp(i)\n",
    "for i in range(4):\n",
    "    print(specificity_myself(confusion_matrix_myself, i))"
   ]
  },
  {
   "cell_type": "code",
   "execution_count": 12,
   "metadata": {},
   "outputs": [],
   "source": [
    "# Calculate the metric: Matthew's correlation coefficient\n",
    "import math\n",
    "def mcc_myself(confusion_matrix, i):\n",
    "    matrix_sum = sum(sum(j) for j in confusion_matrix)\n",
    "    N_plus_minus_i = sum(confusion_matrix[i]) - confusion_matrix[i,i]\n",
    "    N_plus_i = sum(confusion_matrix[i])\n",
    "    N_minus_plus_i = sum(confusion_matrix[:,i])-confusion_matrix[i,i]\n",
    "    N_minus_i = matrix_sum - sum(confusion_matrix[i])\n",
    "    part_1 =float(N_plus_minus_i)/N_plus_i + float(N_minus_plus_i)/N_minus_i\n",
    "    part_2 =1+float(N_minus_plus_i-N_plus_minus_i)/N_plus_i\n",
    "    part_3 =1+float(N_plus_minus_i-N_minus_plus_i)/N_minus_i\n",
    "    mcc_i = float(1 - part_1)/math.sqrt(part_2*part_3)\n",
    "    return mcc_i"
   ]
  },
  {
   "cell_type": "code",
   "execution_count": 13,
   "metadata": {},
   "outputs": [
    {
     "name": "stdout",
     "output_type": "stream",
     "text": [
      "0.8211728856111272\n",
      "0.8800810736907339\n",
      "0.6150763179827043\n",
      "0.638722195631508\n"
     ]
    }
   ],
   "source": [
    "# Calculate the MCC(i)\n",
    "for i in range(4):\n",
    "    print(mcc_myself(confusion_matrix_myself, i))"
   ]
  },
  {
   "cell_type": "code",
   "execution_count": 14,
   "metadata": {},
   "outputs": [],
   "source": [
    "# Calculate the metric: overall accuracy\n",
    "def accuracy_myself(confusion_matrix):\n",
    "    num_i = 0\n",
    "    for i in range(4):\n",
    "        N_plus_i = sum(confusion_matrix[i])\n",
    "        N_plus_minus_i = sum(confusion_matrix[i]) - confusion_matrix[i,i]\n",
    "        num_i += N_plus_i - N_plus_minus_i\n",
    "    return float(num_i)/644"
   ]
  },
  {
   "cell_type": "code",
   "execution_count": 15,
   "metadata": {},
   "outputs": [
    {
     "name": "stdout",
     "output_type": "stream",
     "text": [
      "0.9037267080745341\n"
     ]
    }
   ],
   "source": [
    "# Calculate the OA\n",
    "print(accuracy_myself(confusion_matrix_myself))"
   ]
  }
 ],
 "metadata": {
  "kernelspec": {
   "display_name": "Python 3",
   "language": "python",
   "name": "python3"
  },
  "language_info": {
   "codemirror_mode": {
    "name": "ipython",
    "version": 3
   },
   "file_extension": ".py",
   "mimetype": "text/x-python",
   "name": "python",
   "nbconvert_exporter": "python",
   "pygments_lexer": "ipython3",
   "version": "3.6.5"
  }
 },
 "nbformat": 4,
 "nbformat_minor": 2
}
