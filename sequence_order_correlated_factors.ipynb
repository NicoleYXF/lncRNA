{
 "cells": [
  {
   "cell_type": "code",
   "execution_count": 1,
   "metadata": {},
   "outputs": [
    {
     "name": "stdout",
     "output_type": "stream",
     "text": [
      "(10, 16)\n"
     ]
    }
   ],
   "source": [
    "import numpy as np\n",
    "\n",
    "# Read physicochemical properties\n",
    "def loadTXTfile():\n",
    "    tmp = np.loadtxt(\"physichemical.csv\", dtype=np.float, delimiter=\",\")\n",
    "    return tmp\n",
    "\n",
    "physichemical = loadTXTfile()\n",
    "print(physichemical.shape)"
   ]
  },
  {
   "cell_type": "code",
   "execution_count": 2,
   "metadata": {},
   "outputs": [],
   "source": [
    "# Perform a standard conversion\n",
    "physichemical_stand = np.zeros((10,16), dtype=float)\n",
    "for i in range(physichemical.shape[0]):\n",
    "    for j in range(physichemical.shape[1]):\n",
    "        physichemical_stand[i][j] = (physichemical[i][j] - np.mean(physichemical[i]))/np.std(physichemical[i]) "
   ]
  },
  {
   "cell_type": "code",
   "execution_count": 3,
   "metadata": {},
   "outputs": [],
   "source": [
    "# List of the 16 different dinucleotides\n",
    "list = [\"AA\",\"AC\",\"AG\",\"AT\",\"CA\",\"CC\",\"CG\",\"CT\",\"GA\",\"GC\",\"GG\",\"GT\",\"TA\",\"TC\",\"TG\",\"TT\"]"
   ]
  },
  {
   "cell_type": "code",
   "execution_count": 4,
   "metadata": {},
   "outputs": [],
   "source": [
    "# Calculate the Eq.8 in our paper, where seq represents the lncRNA sequence\n",
    "def getH(seq, j, physichemical_stand,i):\n",
    "    dinu1 = seq[i:i+2]\n",
    "    dinu1_p = list.index(dinu1)\n",
    "    dinu2 = seq[i+j:i+j+2]\n",
    "    dinu2_p = list.index(dinu2)\n",
    "    sum_u = 0\n",
    "    for u in range(physichemical_stand.shape[0]):\n",
    "        dinu1_physi_value = physichemical_stand[u][dinu1_p]\n",
    "        dinu2_physi_value = physichemical_stand[u][dinu2_p]\n",
    "        sum_u = sum_u + pow(dinu1_physi_value-dinu2_physi_value,2)\n",
    "    return sum_u / (physichemical_stand.shape[0])\n",
    "\n",
    "# Get the sequence order correlated factors\n",
    "def getThetaLambda(seq, Lambda, physichemical_stand):\n",
    "    sum_theta = 0\n",
    "    for i in range(len(seq)-1-Lambda):\n",
    "        sum_theta = sum_theta + getH(seq, Lambda, physichemical_stand, i)\n",
    "    return sum_theta/(len(seq)-1-Lambda)"
   ]
  },
  {
   "cell_type": "code",
   "execution_count": 5,
   "metadata": {},
   "outputs": [],
   "source": [
    "# Store all the lncRNA sequences\n",
    "all_lncRNA_sequences = []\n",
    "\n",
    "# Read the lncRNA sequences and add these lncRNA sequences into all_lncRNA_sequences \n",
    "with open(\"Data/Nucleolus.txt\", \"r\") as file_object:\n",
    "    nucleolus = file_object.readlines()\n",
    "    all_lncRNA_sequences.extend(nucleolus)\n",
    "with open(\"Data/Cytoplasm.txt\", \"r\") as file_object:\n",
    "    cytoplasm = file_object.readlines()\n",
    "    all_lncRNA_sequences.extend(cytoplasm)\n",
    "with open(\"Data/Ribosome.txt\", \"r\") as file_object:\n",
    "    ribosome = file_object.readlines()\n",
    "    all_lncRNA_sequences.extend(ribosome)\n",
    "with open(\"Data/Exosome.txt\", \"r\") as file_object:\n",
    "    exosome = file_object.readlines()\n",
    "    all_lncRNA_sequences.extend(exosome)"
   ]
  },
  {
   "cell_type": "code",
   "execution_count": 6,
   "metadata": {},
   "outputs": [],
   "source": [
    "# Calculate the Eq.7 in our paper, where lambda_scale represents the scale of the lambda\n",
    "def getThetaList(all_lncRNA_sequences,lambda_scale,physichemical_stand):\n",
    "    num = 0\n",
    "    theta_list = []\n",
    "    for seq in all_lncRNA_sequences:\n",
    "        if seq.startswith(\">\"):\n",
    "            num = num + 1\n",
    "        else:\n",
    "            seq = seq.rstrip()\n",
    "            theta_list_line = []\n",
    "            for Lambda in range(1,lambda_scale+1):\n",
    "                theta_list_line.append(getThetaLambda(seq, Lambda, physichemical_stand))\n",
    "            theta_list.append(theta_list_line)\n",
    "    return np.asarray(theta_list)"
   ]
  },
  {
   "cell_type": "code",
   "execution_count": 7,
   "metadata": {},
   "outputs": [
    {
     "name": "stdout",
     "output_type": "stream",
     "text": [
      "(644, 14)\n"
     ]
    }
   ],
   "source": [
    "# Get sequence order correlated factors for lambda=14\n",
    "theta_list = getThetaList(all_lncRNA_sequences,14,physichemical_stand)\n",
    "print(theta_list.shape)"
   ]
  },
  {
   "cell_type": "code",
   "execution_count": 8,
   "metadata": {},
   "outputs": [
    {
     "name": "stdout",
     "output_type": "stream",
     "text": [
      "[[1.55998056 1.72068744 1.69772631 ... 1.630961   1.68333032 1.7408159 ]\n",
      " [1.71094442 1.87349621 1.75910365 ... 1.82335529 1.81034405 1.78741049]\n",
      " [1.66686377 1.8478084  1.76740672 ... 1.73820501 1.7512723  1.77451019]\n",
      " ...\n",
      " [2.01129764 2.01496932 1.90431592 ... 1.93906265 1.93308006 1.94249633]\n",
      " [1.70317293 1.85484811 1.61644431 ... 1.78508198 1.89115889 1.98460661]\n",
      " [1.86769445 2.01312376 1.87986256 ... 1.88144703 1.94246718 1.9155969 ]]\n"
     ]
    }
   ],
   "source": [
    "print(theta_list)"
   ]
  },
  {
   "cell_type": "code",
   "execution_count": 9,
   "metadata": {},
   "outputs": [
    {
     "name": "stdout",
     "output_type": "stream",
     "text": [
      "(644, 14)\n"
     ]
    }
   ],
   "source": [
    "print(theta_list.shape)"
   ]
  },
  {
   "cell_type": "code",
   "execution_count": 10,
   "metadata": {},
   "outputs": [],
   "source": [
    "# Store the sequence order correlated factors into data_theta.npy\n",
    "theta_list = np.asarray(theta_list)\n",
    "np.save(\"theta_list.npy\", theta_list)"
   ]
  }
 ],
 "metadata": {
  "kernelspec": {
   "display_name": "Python 3",
   "language": "python",
   "name": "python3"
  },
  "language_info": {
   "codemirror_mode": {
    "name": "ipython",
    "version": 3
   },
   "file_extension": ".py",
   "mimetype": "text/x-python",
   "name": "python",
   "nbconvert_exporter": "python",
   "pygments_lexer": "ipython3",
   "version": "3.6.5"
  }
 },
 "nbformat": 4,
 "nbformat_minor": 2
}
