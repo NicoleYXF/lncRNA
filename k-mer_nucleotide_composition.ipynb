{
 "cells": [
  {
   "cell_type": "code",
   "execution_count": 1,
   "metadata": {},
   "outputs": [],
   "source": [
    "import itertools\n",
    "\n",
    "bases=[\"A\", \"T\", \"G\", \"C\"]\n",
    "def create_features(k):\n",
    "    list = [\"\".join(p) for p in itertools.product(bases, repeat=k)]\n",
    "    return list\n",
    "\n",
    "def create_dict(list):\n",
    "    kmers = {}\n",
    "    for i in list:\n",
    "        kmers[i]=0\n",
    "    return kmers"
   ]
  },
  {
   "cell_type": "code",
   "execution_count": 2,
   "metadata": {},
   "outputs": [],
   "source": [
    "import numpy as np\n",
    "import operator\n",
    "\n",
    "# Get the k-mer nucleotide composition\n",
    "def getArray(k):\n",
    "    # 644 is the total number of lncRNA sequences\n",
    "    k_array = np.zeros((644, pow(4,k)), dtype=int)\n",
    "    # Get 4^k different k-mer nucleotide composition\n",
    "    kmers = create_dict(create_features(k))\n",
    "    # Read the lncRNA sequences\n",
    "    with open(\"Data/Nucleolus.txt\", \"r\") as file_object:\n",
    "        nucleolus = file_object.readlines()\n",
    "    with open(\"Data/Cytoplasm.txt\", \"r\") as file_object:\n",
    "        cytoplasm = file_object.readlines()\n",
    "    with open(\"Data/Ribosome.txt\", \"r\") as file_object:\n",
    "        ribosome = file_object.readlines()\n",
    "    with open(\"Data/Exosome.txt\", \"r\") as file_object:\n",
    "        exosome = file_object.readlines()\n",
    "    \n",
    "    # Get the occurrence number of each k-mer for a lncRNA sequence\n",
    "    integer = -1\n",
    "    for sequences in [nucleolus, cytoplasm, ribosome, exosome]:\n",
    "        num = 0\n",
    "        for seq in sequences:\n",
    "            for i in kmers:\n",
    "                kmers[i] = 0\n",
    "            num += 1\n",
    "            if num%2 == 0:\n",
    "                integer += 1\n",
    "                seq = seq.rstrip()\n",
    "                for i in range(len(seq) - k + 1):\n",
    "                    kmer = seq[i:i+k]\n",
    "                    if kmer in kmers.keys():\n",
    "                        kmers[kmer] += 1\n",
    "                j = -1\n",
    "                for kmer, count in kmers.items():\n",
    "                    j += 1\n",
    "                    k_array[integer][j] = count\n",
    "    \n",
    "    # Calculate the occurrence frequency of each k-mer for a lncRNA sequence\n",
    "    k_array = k_array.astype(\"float\")\n",
    "    for i in range(k_array.shape[0]):\n",
    "        k_array[i] = k_array[i] / sum(k_array[i])\n",
    "    return k_array"
   ]
  },
  {
   "cell_type": "code",
   "execution_count": 3,
   "metadata": {},
   "outputs": [],
   "source": [
    "# Set the appropriate label for each class of lncRNA sequences\n",
    "def getTarget():\n",
    "    # 0-153 is the lncRNA sequences in nucleolus, and we set the label of these sequences as 0\n",
    "    # 154-570 is the lncRNA sequences in cytoplasm, and we set the label of these sequences as 1\n",
    "    # 571-613 is the lncRNA sequences in ribosome, and we set the label of these sequences as 2\n",
    "    # 614-643 is the lncRNA sequences in exosome, and we set the label of these sequences as 3\n",
    "    target = np.zeros((644,), dtype=int)\n",
    "    for i in range(154, 571): \n",
    "        target[i] = 1\n",
    "\n",
    "    for i in range(571, 614):\n",
    "        target[i] = 2\n",
    "\n",
    "    for i in range(614, 644):\n",
    "        target[i] = 3\n",
    "    return target\n",
    "\n",
    "# Store these labels into target.npy\n",
    "target = np.asarray(getTarget())\n",
    "np.save(\"target.npy\", target)"
   ]
  },
  {
   "cell_type": "code",
   "execution_count": 4,
   "metadata": {},
   "outputs": [
    {
     "name": "stdout",
     "output_type": "stream",
     "text": [
      "(644, 65536)\n"
     ]
    }
   ],
   "source": [
    "# Get 8-mer nucleotide composition\n",
    "k_mer = getArray(8)\n",
    "print(k_mer.shape)"
   ]
  },
  {
   "cell_type": "code",
   "execution_count": 5,
   "metadata": {},
   "outputs": [],
   "source": [
    "# Store the 8-mer nucleotide composition into k_mer.npy\n",
    "k_mer = np.asarray(k_mer)\n",
    "np.save(\"k_mer.npy\", k_mer)"
   ]
  }
 ],
 "metadata": {
  "kernelspec": {
   "display_name": "Python 3",
   "language": "python",
   "name": "python3"
  },
  "language_info": {
   "codemirror_mode": {
    "name": "ipython",
    "version": 3
   },
   "file_extension": ".py",
   "mimetype": "text/x-python",
   "name": "python",
   "nbconvert_exporter": "python",
   "pygments_lexer": "ipython3",
   "version": "3.6.5"
  }
 },
 "nbformat": 4,
 "nbformat_minor": 2
}
