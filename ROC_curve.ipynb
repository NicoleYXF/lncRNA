{
 "cells": [
  {
   "cell_type": "code",
   "execution_count": 1,
   "metadata": {},
   "outputs": [
    {
     "name": "stdout",
     "output_type": "stream",
     "text": [
      "(644, 65550)\n"
     ]
    }
   ],
   "source": [
    "import numpy as np\n",
    "\n",
    "# # Read 8-mer nucleotide composition\n",
    "k_mer = np.load(\"k_mer.npy\")\n",
    "# Read sequence order correlated factors\n",
    "theta_list = np.load(\"theta_list.npy\")\n",
    "# Concatenate the 8-mer nucleotide composition and sequence order correlated factors\n",
    "features = np.column_stack((k_mer,theta_list)) \n",
    "print(features.shape)"
   ]
  },
  {
   "cell_type": "code",
   "execution_count": 2,
   "metadata": {},
   "outputs": [
    {
     "name": "stdout",
     "output_type": "stream",
     "text": [
      "(644,)\n"
     ]
    }
   ],
   "source": [
    "# Read labels\n",
    "target = np.load(\"target.npy\")\n",
    "print(target.shape)"
   ]
  },
  {
   "cell_type": "code",
   "execution_count": 3,
   "metadata": {},
   "outputs": [
    {
     "name": "stdout",
     "output_type": "stream",
     "text": [
      "(644, 64723)\n"
     ]
    }
   ],
   "source": [
    "# When the value of i-th feature for all lncRNA sequences are zero, we will delete this feature.\n",
    "list_delete = []\n",
    "for i in range(65536):\n",
    "    if sum(features[:,i])==0:\n",
    "        list_delete.append(i)\n",
    "features_new = np.delete(features, list_delete, axis=1)\n",
    "print(features_new.shape)"
   ]
  },
  {
   "cell_type": "code",
   "execution_count": 4,
   "metadata": {},
   "outputs": [
    {
     "name": "stdout",
     "output_type": "stream",
     "text": [
      "(644, 11220)\n"
     ]
    }
   ],
   "source": [
    "from sklearn.feature_selection import f_classif\n",
    "from sklearn.feature_selection import SelectKBest\n",
    "\n",
    "# Apply the ANOVA to obtain the optimal feature subset\n",
    "selector = SelectKBest(f_classif, k=11220)\n",
    "selector.fit(features_new, target)\n",
    "features_selected = selector.transform(features_new)\n",
    "print(features_selected.shape)"
   ]
  },
  {
   "cell_type": "code",
   "execution_count": 5,
   "metadata": {},
   "outputs": [],
   "source": [
    "import numpy as np\n",
    "import matplotlib.pyplot as plt\n",
    "from itertools import cycle\n",
    "from sklearn.preprocessing import label_binarize\n",
    "from sklearn import svm, datasets\n",
    "from sklearn.metrics import roc_curve, auc\n",
    "from sklearn.model_selection import train_test_split\n",
    "from sklearn.preprocessing import label_binarize\n",
    "from sklearn.multiclass import OneVsRestClassifier\n",
    "from scipy import interp\n",
    "from sklearn.model_selection import LeaveOneOut\n",
    "from sklearn.pipeline import Pipeline\n",
    "from sklearn.svm import SVC\n",
    "from sklearn.preprocessing import MinMaxScaler"
   ]
  },
  {
   "cell_type": "code",
   "execution_count": 6,
   "metadata": {},
   "outputs": [],
   "source": [
    "# Binarize the output\n",
    "y = label_binarize(target, classes=[0, 1, 2, 3])\n",
    "n_classes = y.shape[1]\n",
    "# X represets the features which are selected\n",
    "X = features_selected\n",
    "\n",
    "pipe = Pipeline([(\"scaler\", MinMaxScaler()), \n",
    "                 (\"svm\",SVC(C=256, gamma=0.0001220703125, decision_function_shape=\"ovo\",kernel=\"rbf\",probability=True))])"
   ]
  },
  {
   "cell_type": "code",
   "execution_count": 7,
   "metadata": {},
   "outputs": [],
   "source": [
    "# Learn to predict each class against the other\n",
    "classifier = OneVsRestClassifier(pipe)\n",
    "y_score = []\n",
    "loo = LeaveOneOut()\n",
    "for train, test in loo.split(X,y):\n",
    "    # Obtain the \"certainty score\" of a lncRNA sequence for each class\n",
    "    y_score_i = classifier.fit(X[train], y[train]).decision_function(X[test])\n",
    "    y_score.append(y_score_i.ravel().tolist())\n",
    "y_score = np.array(y_score)"
   ]
  },
  {
   "cell_type": "code",
   "execution_count": 8,
   "metadata": {},
   "outputs": [],
   "source": [
    "# Compute ROC curve and ROC area for each class\n",
    "fpr = dict()\n",
    "tpr = dict()\n",
    "roc_auc = dict()\n",
    "for i in range(n_classes):\n",
    "    fpr[i], tpr[i], _ = roc_curve(y[:, i], y_score[:, i])\n",
    "    roc_auc[i] = auc(fpr[i], tpr[i])"
   ]
  },
  {
   "cell_type": "code",
   "execution_count": 9,
   "metadata": {},
   "outputs": [],
   "source": [
    "# Compute micro-average ROC curve and ROC area\n",
    "fpr[\"micro\"], tpr[\"micro\"], _ = roc_curve(y.ravel(), y_score.ravel())\n",
    "roc_auc[\"micro\"] = auc(fpr[\"micro\"], tpr[\"micro\"])"
   ]
  },
  {
   "cell_type": "code",
   "execution_count": 10,
   "metadata": {},
   "outputs": [
    {
     "data": {
      "image/png": "[encoded data removed]",
      "text/plain": [
       "<Figure size 432x288 with 1 Axes>"
      ]
     },
     "metadata": {},
     "output_type": "display_data"
    }
   ],
   "source": [
    "# Plot the ROC curve\n",
    "plt.plot(fpr[\"micro\"], tpr[\"micro\"], color='black', linewidth=2)\n",
    "plt.xlim([0.0, 1.0])\n",
    "plt.ylim([0.0, 1.05])\n",
    "ax = plt.gca()\n",
    "\n",
    "plt.xlabel(\"1-Specificity\")\n",
    "plt.ylabel(\"Sensitivity\")\n",
    "plt.title('The receiver operating characteristic curve for identifying lncRNA subcellular localization.')\n",
    "plt.show()"
   ]
  },
  {
   "cell_type": "code",
   "execution_count": 11,
   "metadata": {},
   "outputs": [
    {
     "name": "stdout",
     "output_type": "stream",
     "text": [
      "0.969541266412047\n"
     ]
    }
   ],
   "source": [
    "# AUC value\n",
    "print(roc_auc[\"micro\"])"
   ]
  }
 ],
 "metadata": {
  "kernelspec": {
   "display_name": "Python 3",
   "language": "python",
   "name": "python3"
  },
  "language_info": {
   "codemirror_mode": {
    "name": "ipython",
    "version": 3
   },
   "file_extension": ".py",
   "mimetype": "text/x-python",
   "name": "python",
   "nbconvert_exporter": "python",
   "pygments_lexer": "ipython3",
   "version": "3.6.5"
  }
 },
 "nbformat": 4,
 "nbformat_minor": 2
}
