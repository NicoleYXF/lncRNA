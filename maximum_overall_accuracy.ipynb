{
 "cells": [
  {
   "cell_type": "code",
   "execution_count": 1,
   "metadata": {},
   "outputs": [
    {
     "name": "stdout",
     "output_type": "stream",
     "text": [
      "(644, 65550)\n"
     ]
    }
   ],
   "source": [
    "import numpy as np\n",
    "\n",
    "# Read 8-mer nucleotide composition\n",
    "k_mer = np.load(\"k_mer.npy\")\n",
    "# Read sequence order correlated factors\n",
    "theta_list = np.load(\"theta_list.npy\")\n",
    "# Concatenate the 8-mer nucleotide composition and sequence order correlated factors\n",
    "features = np.column_stack((k_mer,theta_list)) \n",
    "print(features.shape)"
   ]
  },
  {
   "cell_type": "code",
   "execution_count": 2,
   "metadata": {},
   "outputs": [
    {
     "name": "stdout",
     "output_type": "stream",
     "text": [
      "(644,)\n"
     ]
    }
   ],
   "source": [
    "# Read labels\n",
    "target = np.load(\"target.npy\")\n",
    "print(target.shape)"
   ]
  },
  {
   "cell_type": "code",
   "execution_count": 3,
   "metadata": {},
   "outputs": [
    {
     "name": "stdout",
     "output_type": "stream",
     "text": [
      "(644, 64723)\n"
     ]
    }
   ],
   "source": [
    "import pandas as pd\n",
    "\n",
    "# When the value of i-th feature for all lncRNA sequences are zero, we will delete this feature.\n",
    "list_delete = []\n",
    "for i in range(65550):\n",
    "    if sum(features[:,i])==0:\n",
    "        list_delete.append(i)\n",
    "features_new = np.delete(features, list_delete, axis=1)\n",
    "print(features_new.shape)"
   ]
  },
  {
   "cell_type": "code",
   "execution_count": 4,
   "metadata": {},
   "outputs": [
    {
     "name": "stdout",
     "output_type": "stream",
     "text": [
      "(644, 11220)\n"
     ]
    }
   ],
   "source": [
    "from sklearn.feature_selection import f_classif\n",
    "from sklearn.feature_selection import SelectKBest\n",
    "\n",
    "# Apply the ANOVA to obtain the optimal feature subset\n",
    "selector = SelectKBest(f_classif, k=11220)\n",
    "selector.fit(features_new, target)\n",
    "features_selected = selector.transform(features_new)\n",
    "print(features_selected.shape)"
   ]
  },
  {
   "cell_type": "code",
   "execution_count": 5,
   "metadata": {},
   "outputs": [
    {
     "name": "stdout",
     "output_type": "stream",
     "text": [
      "(644, 11220)\n",
      "{'svm__C': 256, 'svm__gamma': 0.0001220703125}\n",
      "0.8881987577639752\n"
     ]
    }
   ],
   "source": [
    "from sklearn.svm import SVC\n",
    "from sklearn.model_selection import GridSearchCV\n",
    "from sklearn.preprocessing import MinMaxScaler\n",
    "from sklearn.pipeline import Pipeline\n",
    "\n",
    "pipe = Pipeline([(\"scaler\", MinMaxScaler()), \n",
    "                 (\"svm\",SVC(decision_function_shape=\"ovo\",kernel=\"rbf\"))])\n",
    "\n",
    "param_grid = {\"svm__C\":[pow(2, k) for k in range(-5, 16)],\n",
    "             \"svm__gamma\":[pow(2, k) for k in range(-15, 4)]}\n",
    "\n",
    "# When we select 11220 features, the maximum overall accuracy can reach 88.82%\n",
    "grid_search = GridSearchCV(pipe, param_grid, cv=5)\n",
    "grid_search.fit(features_selected, target)\n",
    "print(features_selected.shape)\n",
    "# The best values for parameters C and gamma.\n",
    "print(grid_search.best_params_)\n",
    "print(grid_search.best_score_)"
   ]
  }
 ],
 "metadata": {
  "kernelspec": {
   "display_name": "Python 3",
   "language": "python",
   "name": "python3"
  },
  "language_info": {
   "codemirror_mode": {
    "name": "ipython",
    "version": 3
   },
   "file_extension": ".py",
   "mimetype": "text/x-python",
   "name": "python",
   "nbconvert_exporter": "python",
   "pygments_lexer": "ipython3",
   "version": "3.6.5"
  }
 },
 "nbformat": 4,
 "nbformat_minor": 2
}
